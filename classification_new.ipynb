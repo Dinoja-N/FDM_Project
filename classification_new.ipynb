{
  "nbformat": 4,
  "nbformat_minor": 0,
  "metadata": {
    "colab": {
      "provenance": [],
      "collapsed_sections": []
    },
    "kernelspec": {
      "name": "python3",
      "display_name": "Python 3"
    },
    "language_info": {
      "name": "python"
    }
  },
  "cells": [
    {
      "cell_type": "code",
      "execution_count": 30,
      "metadata": {
        "colab": {
          "base_uri": "https://localhost:8080/"
        },
        "id": "70vLRzAQpLy0",
        "outputId": "49d440a5-21ea-4843-ef7e-bfc34c86ded9"
      },
      "outputs": [
        {
          "output_type": "execute_result",
          "data": {
            "text/plain": [
              "0.5311250713877784"
            ]
          },
          "metadata": {},
          "execution_count": 30
        }
      ],
      "source": [
        "import pandas as pd\n",
        "from sklearn.model_selection import train_test_split\n",
        "from sklearn.preprocessing import LabelEncoder, MinMaxScaler\n",
        "import xgboost as xgb\n",
        "\n",
        "\n",
        "data = pd.read_csv('preprocessed_dataset_2.csv.xls')\n",
        "data = pd.DataFrame(data)\n",
        "data.columns\n",
        "#dropping the unnecessary columns\n",
        "df3 = data.drop(columns = ['calculated_host_listings_count', 'has_availability', 'host_is_superhost', 'host_listings_count', 'latitude(North)', 'longitude(East)', 'number_of_reviews', 'review_scores_checkin',\n",
        "       'review_scores_communication', 'review_scores_location',\n",
        "       'review_scores_rating', 'review_scores_value', 'Unnamed: 0', 'amenities__Dryer', 'amenities__Other_pet(s)',\n",
        "       'amenities__Carbon_Monoxide_Detector', 'amenities__', 'amenities__Iron',\n",
        "       'amenities__Elevator_in_Building', 'amenities__Cable_TV',\n",
        "       'amenities__Heating', 'amenities__Shampoo',\n",
        "       'amenities__Wireless_Internet', 'amenities__Dog(s)',\n",
        "       'amenities__Doorman', 'amenities__24-Hour_Check-in', 'amenities__TV',\n",
        "       'amenities__First_Aid_Kit', 'amenities__Pets_live_on_this_property',\n",
        "       'amenities__Essentials', 'amenities__Laptop_Friendly_Workspace',\n",
        "       'amenities__Hair_Dryer', 'amenities__Gym', 'amenities__Safety_Card',\n",
        "       'amenities__Pool', 'amenities__Internet', 'amenities__Kitchen',\n",
        "       'amenities__Pets_Allowed', 'amenities__Buzzer/Wireless_Intercom',\n",
        "       'amenities__Breakfast', 'amenities__Washer_/_Dryer',\n",
        "       'amenities__Suitable_for_Events', 'amenities__Free_Parking_on_Premises',\n",
        "       'amenities__Lock_on_Bedroom_Door', 'amenities__Washer',\n",
        "       'amenities__Hot_Tub', 'amenities__Cat(s)',\n",
        "       'amenities__Air_Conditioning', 'amenities__Indoor_Fireplace',\n",
        "       'amenities__Smoke_Detector', 'amenities__Wheelchair_Accessible',\n",
        "       'amenities__Family/Kid_Friendly', 'amenities__Fire_Extinguisher',\n",
        "      'amenities__Hangers', 'amenities__Smoking_Allowed'])\n",
        "\n",
        "df3\n",
        "df3['bed_type'] = df3['bed_type'].map({'Real Bed': 1, 'Futon': 2, 'Airbed': 3, 'Pull-out Sofa': 4, 'Couch': 5})\n",
        "df3['cancellation_policy'] = df3['cancellation_policy'].map({'moderate':1, 'flexible':2, 'strict': 3})\n",
        "df3['instant_bookable'] = df3['instant_bookable'].map({'t':1, 'f':0})\n",
        "df3['property_type'] = df3['property_type'].map({'House':1, 'Camper/RV':2, 'Bed & Breakfast':3, 'Apartment':4, 'Townhouse':5, 'Condominium':6, 'Bungalow':7, 'Cabin':8, 'Loft':9, 'Villa':10, 'Treehouse':11, 'Tent':12, 'Boat':13, 'Hut':14, 'Chalet':15, 'Earth House':16, 'Tipi':17, 'Other':18})\n",
        "df3['room_type'] = df3['room_type'].map({'Private room':1, 'Entire home/apt':2, 'Shared room':3})\n",
        "\n",
        "df3\n",
        "\n",
        "df3['bed_type'].round(0)\n",
        "df3['cancellation_policy'].round(0)\n",
        "df3['instant_bookable'].round(0)\n",
        "df3['property_type'].round(0)\n",
        "df3['room_type'].round(0)\n",
        "\n",
        "df3['bed_type'] = df3['bed_type'].astype('Int64')\n",
        "df3['bedrooms'] = df3['bedrooms'].astype('Int64')\n",
        "df3['cancellation_policy'] = df3['cancellation_policy'].astype('Int64')\n",
        "df3['instant_bookable'] = df3['instant_bookable'].astype('Int64')\n",
        "df3['property_type'] = df3['property_type'].astype('Int64')\n",
        "df3['room_type'] = df3['room_type'].astype('Int64')\n",
        "\n",
        "#Splitting data and target\n",
        "X = df3.drop(['cancellation_policy'],axis=1)\n",
        "y = df3.iloc[:,6]\n",
        "y = y.astype('int')\n",
        "\n",
        "# Splitting data into training and testing data\n",
        "X_train,X_test,y_train,y_test = train_test_split(X,y,test_size=0.3,random_state=42)\n",
        "\n",
        "df3.isnull().sum()\n",
        "\n",
        "from sklearn.ensemble import RandomForestClassifier\n",
        "RFclassifier=RandomForestClassifier()\n",
        "RFclassifier.fit(X_train,y_train)\n",
        "y_pred= RFclassifier.predict(X_test)\n",
        "from sklearn.metrics import accuracy_score\n",
        "acc= accuracy_score(y_test,y_pred)\n",
        "acc"
      ]
    },
    {
      "cell_type": "code",
      "source": [
        "from sklearn.naive_bayes import GaussianNB\n",
        "\n",
        "NBclassifier = GaussianNB()\n",
        "NBclassifier.fit(X_train,y_train)\n",
        "y_pred= NBclassifier.predict(X_test)\n",
        "from sklearn.metrics import accuracy_score\n",
        "score= accuracy_score(y_test,y_pred)\n",
        "score"
      ],
      "metadata": {
        "colab": {
          "base_uri": "https://localhost:8080/"
        },
        "id": "lG9h2WUz_xU-",
        "outputId": "90c1674a-4b7e-4a71-a81a-d1d9894649f3"
      },
      "execution_count": 32,
      "outputs": [
        {
          "output_type": "execute_result",
          "data": {
            "text/plain": [
              "0.45802398629354657"
            ]
          },
          "metadata": {},
          "execution_count": 32
        }
      ]
    }
  ]
}